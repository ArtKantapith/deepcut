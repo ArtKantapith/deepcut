{
 "cells": [
  {
   "cell_type": "code",
   "execution_count": 2,
   "metadata": {
    "ExecuteTime": {
     "end_time": "2017-06-18T22:38:11.354891",
     "start_time": "2017-06-18T22:38:11.025189"
    },
    "collapsed": true
   },
   "outputs": [],
   "source": [
    "import pandas as pd\n",
    "import numpy as np\n",
    "import scipy as sp\n",
    "from sklearn import preprocessing\n",
    "\n",
    "from sklearn.ensemble import RandomForestClassifier\n",
    "\n",
    "from sklearn.metrics import precision_score, recall_score, f1_score\n",
    "\n",
    "from utils import *"
   ]
  },
  {
   "cell_type": "markdown",
   "metadata": {},
   "source": [
    "# One-hot encoding"
   ]
  },
  {
   "cell_type": "code",
   "execution_count": 3,
   "metadata": {
    "ExecuteTime": {
     "end_time": "2017-06-19T00:45:06.507695",
     "start_time": "2017-06-18T22:38:12.400291"
    },
    "collapsed": false
   },
   "outputs": [
    {
     "name": "stdout",
     "output_type": "stream",
     "text": [
      "1\n",
      "training...\n",
      "f1 score:  0.983111370068\n",
      "precision score:  0.978509589495\n",
      "recall score:  0.987756638093\n",
      "2\n",
      "training...\n",
      "f1 score:  0.985086557049\n",
      "precision score:  0.983672123752\n",
      "recall score:  0.986505063864\n",
      "3\n",
      "training...\n",
      "f1 score:  0.983749306949\n",
      "precision score:  0.981214740127\n",
      "recall score:  0.986297001715\n",
      "4\n",
      "training...\n",
      "f1 score:  0.980414767045\n",
      "precision score:  0.97676117265\n",
      "recall score:  0.984095796746\n",
      "5\n",
      "training...\n",
      "f1 score:  0.982463755919\n",
      "precision score:  0.980669749839\n",
      "recall score:  0.984264337824\n",
      "6\n",
      "training...\n",
      "f1 score:  0.976165290976\n",
      "precision score:  0.973801203986\n",
      "recall score:  0.978540884439\n",
      "7\n",
      "training...\n",
      "f1 score:  0.980368600474\n",
      "precision score:  0.980357347821\n",
      "recall score:  0.980379853385\n",
      "8\n",
      "training...\n",
      "f1 score:  0.971895319045\n",
      "precision score:  0.96583651115\n",
      "recall score:  0.978030622055\n",
      "9\n",
      "training...\n",
      "f1 score:  0.972979019054\n",
      "precision score:  0.971562108012\n",
      "recall score:  0.974400068933\n",
      "10\n",
      "training...\n"
     ]
    },
    {
     "ename": "ValueError",
     "evalue": "Found array with 0 sample(s) (shape=(0, 0)) while a minimum of 1 is required.",
     "output_type": "error",
     "traceback": [
      "\u001b[0;31m---------------------------------------------------------------------------\u001b[0m",
      "\u001b[0;31mValueError\u001b[0m                                Traceback (most recent call last)",
      "\u001b[0;32m<ipython-input-3-31715aec1133>\u001b[0m in \u001b[0;36m<module>\u001b[0;34m()\u001b[0m\n\u001b[1;32m     35\u001b[0m \u001b[0;34m\u001b[0m\u001b[0m\n\u001b[1;32m     36\u001b[0m     \u001b[0mclf\u001b[0m \u001b[0;34m=\u001b[0m \u001b[0mRandomForestClassifier\u001b[0m\u001b[0;34m(\u001b[0m\u001b[0mclass_weight\u001b[0m\u001b[0;34m=\u001b[0m\u001b[0;34m\"balanced\"\u001b[0m\u001b[0;34m)\u001b[0m\u001b[0;34m\u001b[0m\u001b[0m\n\u001b[0;32m---> 37\u001b[0;31m     \u001b[0mclf\u001b[0m\u001b[0;34m.\u001b[0m\u001b[0mfit\u001b[0m\u001b[0;34m(\u001b[0m\u001b[0msX_train\u001b[0m\u001b[0;34m,\u001b[0m \u001b[0my_train\u001b[0m\u001b[0;34m)\u001b[0m\u001b[0;34m\u001b[0m\u001b[0m\n\u001b[0m\u001b[1;32m     38\u001b[0m \u001b[0;34m\u001b[0m\u001b[0m\n\u001b[1;32m     39\u001b[0m     \u001b[0my_predict\u001b[0m \u001b[0;34m=\u001b[0m \u001b[0mclf\u001b[0m\u001b[0;34m.\u001b[0m\u001b[0mpredict\u001b[0m\u001b[0;34m(\u001b[0m\u001b[0msX_test\u001b[0m\u001b[0;34m)\u001b[0m\u001b[0;34m\u001b[0m\u001b[0m\n",
      "\u001b[0;32m/home/rakpong/anaconda3/lib/python3.6/site-packages/sklearn/ensemble/forest.py\u001b[0m in \u001b[0;36mfit\u001b[0;34m(self, X, y, sample_weight)\u001b[0m\n\u001b[1;32m    245\u001b[0m         \"\"\"\n\u001b[1;32m    246\u001b[0m         \u001b[0;31m# Validate or convert input data\u001b[0m\u001b[0;34m\u001b[0m\u001b[0;34m\u001b[0m\u001b[0m\n\u001b[0;32m--> 247\u001b[0;31m         \u001b[0mX\u001b[0m \u001b[0;34m=\u001b[0m \u001b[0mcheck_array\u001b[0m\u001b[0;34m(\u001b[0m\u001b[0mX\u001b[0m\u001b[0;34m,\u001b[0m \u001b[0maccept_sparse\u001b[0m\u001b[0;34m=\u001b[0m\u001b[0;34m\"csc\"\u001b[0m\u001b[0;34m,\u001b[0m \u001b[0mdtype\u001b[0m\u001b[0;34m=\u001b[0m\u001b[0mDTYPE\u001b[0m\u001b[0;34m)\u001b[0m\u001b[0;34m\u001b[0m\u001b[0m\n\u001b[0m\u001b[1;32m    248\u001b[0m         \u001b[0my\u001b[0m \u001b[0;34m=\u001b[0m \u001b[0mcheck_array\u001b[0m\u001b[0;34m(\u001b[0m\u001b[0my\u001b[0m\u001b[0;34m,\u001b[0m \u001b[0maccept_sparse\u001b[0m\u001b[0;34m=\u001b[0m\u001b[0;34m'csc'\u001b[0m\u001b[0;34m,\u001b[0m \u001b[0mensure_2d\u001b[0m\u001b[0;34m=\u001b[0m\u001b[0;32mFalse\u001b[0m\u001b[0;34m,\u001b[0m \u001b[0mdtype\u001b[0m\u001b[0;34m=\u001b[0m\u001b[0;32mNone\u001b[0m\u001b[0;34m)\u001b[0m\u001b[0;34m\u001b[0m\u001b[0m\n\u001b[1;32m    249\u001b[0m         \u001b[0;32mif\u001b[0m \u001b[0missparse\u001b[0m\u001b[0;34m(\u001b[0m\u001b[0mX\u001b[0m\u001b[0;34m)\u001b[0m\u001b[0;34m:\u001b[0m\u001b[0;34m\u001b[0m\u001b[0m\n",
      "\u001b[0;32m/home/rakpong/anaconda3/lib/python3.6/site-packages/sklearn/utils/validation.py\u001b[0m in \u001b[0;36mcheck_array\u001b[0;34m(array, accept_sparse, dtype, order, copy, force_all_finite, ensure_2d, allow_nd, ensure_min_samples, ensure_min_features, warn_on_dtype, estimator)\u001b[0m\n\u001b[1;32m    414\u001b[0m                              \u001b[0;34m\" minimum of %d is required%s.\"\u001b[0m\u001b[0;34m\u001b[0m\u001b[0m\n\u001b[1;32m    415\u001b[0m                              % (n_samples, shape_repr, ensure_min_samples,\n\u001b[0;32m--> 416\u001b[0;31m                                 context))\n\u001b[0m\u001b[1;32m    417\u001b[0m \u001b[0;34m\u001b[0m\u001b[0m\n\u001b[1;32m    418\u001b[0m     \u001b[0;32mif\u001b[0m \u001b[0mensure_min_features\u001b[0m \u001b[0;34m>\u001b[0m \u001b[0;36m0\u001b[0m \u001b[0;32mand\u001b[0m \u001b[0marray\u001b[0m\u001b[0;34m.\u001b[0m\u001b[0mndim\u001b[0m \u001b[0;34m==\u001b[0m \u001b[0;36m2\u001b[0m\u001b[0;34m:\u001b[0m\u001b[0;34m\u001b[0m\u001b[0m\n",
      "\u001b[0;31mValueError\u001b[0m: Found array with 0 sample(s) (shape=(0, 0)) while a minimum of 1 is required."
     ]
    }
   ],
   "source": [
    "fold_list = [1,2,3,4,5,6,7,8,9,10]\n",
    "\n",
    "for fold in range(1,11,1):\n",
    "    print(fold)\n",
    "    train_fold = fold_list\n",
    "    train_fold.remove(fold)\n",
    "    \n",
    "    df_train = pd.DataFrame(columns = ['char','type','target'])\n",
    "\n",
    "    for number in train_fold:\n",
    "        df = pd.read_csv('../cleaned_data/df_best_article_{}.csv'.format(number), usecols = ['char','type','target'])\n",
    "        df_train = df_train.append(df)\n",
    "    \n",
    "    df_train.reset_index(inplace=True, drop=True)\n",
    "    \n",
    "    df_test = pd.read_csv('../cleaned_data/df_best_article_{}.csv'.format(fold), usecols = ['char','type','target'])\n",
    "    \n",
    "    df_train = add_padding(df_train, 11)\n",
    "    df_test = add_padding(df_test, 11)\n",
    "    \n",
    "    df_n_gram_train = create_n_gram_df(df_train, number = 11)\n",
    "    df_n_gram_test = create_n_gram_df(df_test, number = 11)\n",
    "    \n",
    "    X_train = pd.get_dummies(df_n_gram_train.drop(['target'], axis=1))\n",
    "    y_train = df_n_gram_train.target.astype(int)\n",
    "\n",
    "    X_test = pd.get_dummies(df_n_gram_test.drop(['target'], axis=1))\n",
    "    X_test = X_test.reindex(columns = X_train.columns, fill_value=0)\n",
    "    y_test = df_n_gram_test.target.astype(int)\n",
    "    \n",
    "    sX_train = sp.sparse.csr_matrix(X_train.values)\n",
    "    sX_test = sp.sparse.csr_matrix(X_test.values)\n",
    "    \n",
    "    print('training...')\n",
    "    \n",
    "    clf = RandomForestClassifier(class_weight=\"balanced\")\n",
    "    clf.fit(sX_train, y_train)\n",
    "\n",
    "    y_predict = clf.predict(sX_test)\n",
    "    \n",
    "    print('f1 score: ', f1_score(y_test, y_predict, average='binary'))\n",
    "    print('precision score: ', precision_score(y_test, y_predict))\n",
    "    print('recall score: ', recall_score(y_test, y_predict))\n",
    "    \n",
    "    del df_train,df_test,df_n_gram_train,df_n_gram_test,X_train,X_test,sX_train,sX_test\n",
    "    "
   ]
  },
  {
   "cell_type": "code",
   "execution_count": null,
   "metadata": {
    "collapsed": true
   },
   "outputs": [],
   "source": []
  }
 ],
 "metadata": {
  "anaconda-cloud": {},
  "kernelspec": {
   "display_name": "Python 3",
   "language": "python",
   "name": "python3"
  },
  "language_info": {
   "codemirror_mode": {
    "name": "ipython",
    "version": 3
   },
   "file_extension": ".py",
   "mimetype": "text/x-python",
   "name": "python",
   "nbconvert_exporter": "python",
   "pygments_lexer": "ipython3",
   "version": "3.6.0"
  }
 },
 "nbformat": 4,
 "nbformat_minor": 1
}
