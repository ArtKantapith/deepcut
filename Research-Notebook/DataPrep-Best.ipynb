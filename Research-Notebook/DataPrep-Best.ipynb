{
 "cells": [
  {
   "cell_type": "code",
   "execution_count": 6,
   "metadata": {
    "ExecuteTime": {
     "end_time": "2017-06-18T20:11:21.921026",
     "start_time": "2017-06-18T20:11:21.716894"
    },
    "collapsed": true
   },
   "outputs": [],
   "source": [
    "import re\n",
    "import pandas as pd\n",
    "from utils import *\n",
    "from os import walk\n",
    "from collections import defaultdict"
   ]
  },
  {
   "cell_type": "markdown",
   "metadata": {
    "heading_collapsed": true
   },
   "source": [
    "# Two fold"
   ]
  },
  {
   "cell_type": "code",
   "execution_count": 9,
   "metadata": {
    "ExecuteTime": {
     "end_time": "2017-06-05T14:16:09.016986",
     "start_time": "2017-06-05T14:16:09.014014"
    },
    "collapsed": true,
    "hidden": true
   },
   "outputs": [],
   "source": [
    "input_list = ['article','encyclopedia','news','novel']\n",
    "train_percent = 0.8"
   ]
  },
  {
   "cell_type": "code",
   "execution_count": 12,
   "metadata": {
    "ExecuteTime": {
     "end_time": "2017-06-05T14:20:27.694618",
     "start_time": "2017-06-05T14:19:16.189423"
    },
    "collapsed": false,
    "hidden": true
   },
   "outputs": [
    {
     "name": "stdout",
     "output_type": "stream",
     "text": [
      "article\n",
      "encyclopedia\n",
      "news\n",
      "novel\n"
     ]
    }
   ],
   "source": [
    "for input_folder in input_list:\n",
    "    print(input_folder)\n",
    "\n",
    "    my_path= '../input/{}/'.format(input_folder)\n",
    "    f = get_file(my_path)\n",
    "\n",
    "    train_words = []\n",
    "    test_words = []\n",
    "    train_file = int(train_percent*len(f))\n",
    "\n",
    "    for idx, file in enumerate(f):\n",
    "        path = my_path+file\n",
    "    \n",
    "        lines = open(path, 'r') \n",
    "        for line in lines:\n",
    "            word_in_line = line.split(\"|\")\n",
    "            try:\n",
    "                word_in_line.remove('\\n')\n",
    "            except:\n",
    "                pass\n",
    "            if idx < train_file:\n",
    "                train_words += word_in_line\n",
    "            elif idx >= train_file:\n",
    "                test_words += word_in_line\n",
    "            \n",
    "    df_train = create_df(train_words) \n",
    "    df_test = create_df(test_words)\n",
    "\n",
    "    df_train.to_csv('../cleaned_data/df_best_{}_train.csv'.format(input_folder))\n",
    "    df_test.to_csv('../cleaned_data/df_best_{}_test.csv'.format(input_folder))"
   ]
  },
  {
   "cell_type": "markdown",
   "metadata": {},
   "source": [
    "# Ten fold"
   ]
  },
  {
   "cell_type": "code",
   "execution_count": 15,
   "metadata": {
    "ExecuteTime": {
     "end_time": "2017-06-18T20:28:24.489011",
     "start_time": "2017-06-18T20:28:24.487023"
    },
    "collapsed": true
   },
   "outputs": [],
   "source": [
    "input_list = ['article','encyclopedia','news','novel']"
   ]
  },
  {
   "cell_type": "code",
   "execution_count": 16,
   "metadata": {
    "ExecuteTime": {
     "end_time": "2017-06-18T20:33:15.066078",
     "start_time": "2017-06-18T20:28:25.031287"
    },
    "collapsed": false
   },
   "outputs": [
    {
     "name": "stdout",
     "output_type": "stream",
     "text": [
      "article\n",
      "encyclopedia\n",
      "news\n",
      "novel\n"
     ]
    }
   ],
   "source": [
    "for input_folder in input_list:\n",
    "    print(input_folder)\n",
    "\n",
    "    my_path= '../input/{}/'.format(input_folder)\n",
    "    f = get_file(my_path)\n",
    "\n",
    "    for number in range(10):\n",
    "        train_words = []\n",
    "        \n",
    "        start = int(number/10*len(f))\n",
    "        stop = int((number+1)/10*len(f))\n",
    "    \n",
    "        for idx, file in enumerate(f):\n",
    "            if (idx >= start) and (idx <= stop):\n",
    "                path = my_path+file\n",
    "                lines = open(path, 'r') \n",
    "                for line in lines:\n",
    "                    word_in_line = line.split(\"|\")\n",
    "                    try:\n",
    "                        word_in_line.remove('\\n')\n",
    "                    except:\n",
    "                        pass\n",
    "                    train_words += word_in_line\n",
    "                df_train = create_df(train_words) \n",
    "                df_train.to_csv('../cleaned_data/df_best_{}_{}.csv'.format(input_folder, number+1))"
   ]
  },
  {
   "cell_type": "code",
   "execution_count": null,
   "metadata": {
    "collapsed": true
   },
   "outputs": [],
   "source": []
  }
 ],
 "metadata": {
  "anaconda-cloud": {},
  "kernelspec": {
   "display_name": "Python 3",
   "language": "python",
   "name": "python3"
  },
  "language_info": {
   "codemirror_mode": {
    "name": "ipython",
    "version": 3
   },
   "file_extension": ".py",
   "mimetype": "text/x-python",
   "name": "python",
   "nbconvert_exporter": "python",
   "pygments_lexer": "ipython3",
   "version": "3.6.0"
  }
 },
 "nbformat": 4,
 "nbformat_minor": 1
}
