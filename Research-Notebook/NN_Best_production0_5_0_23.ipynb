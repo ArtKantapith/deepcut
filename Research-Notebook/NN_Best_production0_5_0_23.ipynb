{
 "cells": [
  {
   "cell_type": "code",
   "execution_count": 1,
   "metadata": {
    "ExecuteTime": {
     "end_time": "2017-06-23T20:00:20.679108",
     "start_time": "2017-06-23T20:00:19.118056"
    },
    "collapsed": false
   },
   "outputs": [
    {
     "name": "stderr",
     "output_type": "stream",
     "text": [
      "Using TensorFlow backend.\n"
     ]
    }
   ],
   "source": [
    "import pandas as pd\n",
    "import numpy as np\n",
    "import scipy as sp\n",
    "import keras\n",
    "import pickle\n",
    "\n",
    "from keras.models import Model\n",
    "from keras.layers import Input, Dense, Embedding, Concatenate, Flatten, Dropout, SpatialDropout1D, BatchNormalization, Conv1D, MaxPooling1D, Maximum \n",
    "from keras.layers import TimeDistributed, ZeroPadding1D\n",
    "from keras.optimizers import Adam\n",
    "\n",
    "from sklearn import preprocessing\n",
    "from sklearn.metrics import precision_score, recall_score, f1_score\n",
    "\n",
    "from utils import *"
   ]
  },
  {
   "cell_type": "markdown",
   "metadata": {},
   "source": [
    "# Data Preparation"
   ]
  },
  {
   "cell_type": "code",
   "execution_count": 2,
   "metadata": {
    "ExecuteTime": {
     "end_time": "2017-06-23T20:00:44.049415",
     "start_time": "2017-06-23T20:00:32.715935"
    },
    "collapsed": false
   },
   "outputs": [],
   "source": [
    "fold_list = [1,2,3,4,5,6,7,8,9,10]\n",
    "input_list = ['article','encyclopedia','news','novel']\n",
    "n_gram = 21\n",
    "n_gram2 = int((n_gram-1)/2)\n",
    "\n",
    "fold = 10\n",
    "train_fold = fold_list\n",
    "train_fold.remove(fold)\n",
    "    \n",
    "df_train = pd.DataFrame(columns = ['char','type','target'])\n",
    "\n",
    "df_train = pd.DataFrame(columns = ['char','type','target'])\n",
    "df_test = pd.DataFrame(columns = ['char','type','target'])\n",
    "  \n",
    "for input_folder in input_list:\n",
    "    for number in train_fold:\n",
    "        df1 = pd.read_csv('../cleaned_data/df_best_{}_{}.csv'.format(input_folder, number), usecols = ['char','type','target'])\n",
    "        df_train = df_train.append(df1)\n",
    "    df2 = pd.read_csv('../cleaned_data/df_best_{}_{}.csv'.format(input_folder, fold), usecols = ['char','type','target'])\n",
    "    df_test = df_test.append(df2)\n",
    "    \n",
    "df_train.reset_index(inplace=True, drop=True)  "
   ]
  },
  {
   "cell_type": "code",
   "execution_count": 3,
   "metadata": {
    "ExecuteTime": {
     "end_time": "2017-06-23T20:00:44.861033",
     "start_time": "2017-06-23T20:00:44.050187"
    },
    "collapsed": false
   },
   "outputs": [
    {
     "data": {
      "text/plain": [
       "LabelEncoder()"
      ]
     },
     "execution_count": 3,
     "metadata": {},
     "output_type": "execute_result"
    }
   ],
   "source": [
    "df_train = add_padding(df_train, n_gram)\n",
    "df_test = add_padding(df_test, n_gram)\n",
    "\n",
    "char_le = preprocessing.LabelEncoder()\n",
    "type_le = preprocessing.LabelEncoder()\n",
    "\n",
    "listed_char = list(df_train['char'].unique())\n",
    "all_char = listed_char\n",
    "all_char.append('other')\n",
    "\n",
    "char_le.fit(all_char)\n",
    "type_le.fit(['c','n','v','w','t','s','d','q','p','s_e','b_e','o'])"
   ]
  },
  {
   "cell_type": "code",
   "execution_count": 4,
   "metadata": {
    "ExecuteTime": {
     "end_time": "2017-06-23T20:00:44.864559",
     "start_time": "2017-06-23T20:00:44.862068"
    },
    "collapsed": false
   },
   "outputs": [],
   "source": [
    "with open('../weight/object.pk', 'wb') as handle:\n",
    "    pickle.dump([char_le, type_le, listed_char], handle, protocol=pickle.HIGHEST_PROTOCOL)"
   ]
  },
  {
   "cell_type": "code",
   "execution_count": 5,
   "metadata": {
    "ExecuteTime": {
     "end_time": "2017-06-23T20:01:22.732261",
     "start_time": "2017-06-23T20:00:44.865735"
    },
    "collapsed": false
   },
   "outputs": [],
   "source": [
    "df_train['char'] = char_le.transform(df_train['char'])\n",
    "df_train['type'] = type_le.transform(df_train['type'])\n",
    "\n",
    "to_be_replaced = list(set(df_test['char'].unique()) - set(listed_char))\n",
    "\n",
    "if len(to_be_replaced) != 0:\n",
    "    df_test.replace(to_replace=to_be_replaced, value='other', inplace=True)\n",
    "\n",
    "df_test['char'] = char_le.transform(df_test['char'])\n",
    "df_test['type'] = type_le.transform(df_test['type'])"
   ]
  },
  {
   "cell_type": "code",
   "execution_count": 6,
   "metadata": {
    "ExecuteTime": {
     "end_time": "2017-06-23T20:01:28.803107",
     "start_time": "2017-06-23T20:01:22.733201"
    },
    "collapsed": false
   },
   "outputs": [],
   "source": [
    "df_n_gram_train = create_n_gram_df(df_train, number = n_gram)\n",
    "df_n_gram_test = create_n_gram_df(df_test, number = n_gram)"
   ]
  },
  {
   "cell_type": "code",
   "execution_count": 7,
   "metadata": {
    "ExecuteTime": {
     "end_time": "2017-06-23T20:01:30.631399",
     "start_time": "2017-06-23T20:01:28.804113"
    },
    "collapsed": false
   },
   "outputs": [],
   "source": [
    "char_row = ['char'+str(i+1) for i in range(n_gram2)] + ['char-'+str(i+1) for i in range(n_gram2)] + ['char']\n",
    "type_row = ['type'+str(i+1) for i in range(n_gram2)] + ['type-'+str(i+1) for i in range(n_gram2)] + ['type']\n",
    "\n",
    "x_train1 = df_n_gram_train[char_row].as_matrix()\n",
    "x_train2 = df_n_gram_train[type_row].as_matrix()\n",
    "y_train = df_n_gram_train['target']\n",
    "\n",
    "x_test1 = df_n_gram_test[char_row].as_matrix()\n",
    "x_test2 = df_n_gram_test[type_row].as_matrix()\n",
    "y_test = df_n_gram_test['target']"
   ]
  },
  {
   "cell_type": "markdown",
   "metadata": {},
   "source": [
    "# Model Architecture"
   ]
  },
  {
   "cell_type": "code",
   "execution_count": 8,
   "metadata": {
    "ExecuteTime": {
     "end_time": "2017-06-23T20:01:30.695529",
     "start_time": "2017-06-23T20:01:30.632240"
    },
    "collapsed": false
   },
   "outputs": [],
   "source": [
    "no_char = len(all_char)\n",
    "\n",
    "def get_convo_nn(no_word = 200, n_gram=21):\n",
    "    input1 = Input(shape=(n_gram,))\n",
    "    input2 = Input(shape=(n_gram,))\n",
    "\n",
    "    a = Embedding(no_char, 32, input_length=n_gram)(input1)\n",
    "    a = SpatialDropout1D(0.2)(a)\n",
    "    \n",
    "    a2 = Conv1D(no_word, 2, strides=1, padding=\"valid\", activation='relu')(a)\n",
    "    a2 = TimeDistributed(Dense(5, input_shape=(n_gram, no_word)))(a2)\n",
    "    a2 = ZeroPadding1D(padding=(0,1))(a2)\n",
    "    \n",
    "    a3 = Conv1D(no_word, 3, strides=1, padding=\"valid\", activation='relu')(a)\n",
    "    a3 = TimeDistributed(Dense(5, input_shape=(n_gram, no_word)))(a3)\n",
    "    a3 = ZeroPadding1D(padding=(0,2))(a3)\n",
    "    \n",
    "    a4 = Conv1D(no_word, 4, strides=1, padding=\"valid\", activation='relu')(a)\n",
    "    a4 = TimeDistributed(Dense(5, input_shape=(n_gram, no_word)))(a4)\n",
    "    a4 = ZeroPadding1D(padding=(0,3))(a4)\n",
    "    \n",
    "    a5 = Conv1D(no_word, 5, strides=1, padding=\"valid\", activation='relu')(a)\n",
    "    a5 = TimeDistributed(Dense(5, input_shape=(n_gram, no_word)))(a5)\n",
    "    a5 = ZeroPadding1D(padding=(0,4))(a5)\n",
    "    \n",
    "    a6 = Conv1D(no_word, 6, strides=1, padding=\"valid\", activation='relu')(a)\n",
    "    a6 = TimeDistributed(Dense(5, input_shape=(n_gram, no_word)))(a6)\n",
    "    a6 = ZeroPadding1D(padding=(0,5))(a6)\n",
    "    \n",
    "    a7 = Conv1D(no_word, 7, strides=1, padding=\"valid\", activation='relu')(a)\n",
    "    a7 = TimeDistributed(Dense(5, input_shape=(n_gram, no_word)))(a7)\n",
    "    a7 = ZeroPadding1D(padding=(0,6))(a7)\n",
    "    \n",
    "    a8 = Conv1D(no_word, 8, strides=1, padding=\"valid\", activation='relu')(a)\n",
    "    a8 = TimeDistributed(Dense(5, input_shape=(n_gram, no_word)))(a8)\n",
    "    a8 = ZeroPadding1D(padding=(0,7))(a8)\n",
    "    \n",
    "    a9 = Conv1D(no_word-50, 9, strides=1, padding=\"valid\", activation='relu')(a)\n",
    "    a9 = TimeDistributed(Dense(5, input_shape=(n_gram, no_word)))(a9)\n",
    "    a9 = ZeroPadding1D(padding=(0,8))(a9)\n",
    "    \n",
    "    a10 = Conv1D(no_word-50, 10, strides=1, padding=\"valid\", activation='relu')(a)\n",
    "    a10 = TimeDistributed(Dense(5, input_shape=(n_gram, no_word)))(a10)\n",
    "    a10 = ZeroPadding1D(padding=(0,9))(a10)\n",
    "    \n",
    "    a11 = Conv1D(no_word-50, 11, strides=1, padding=\"valid\", activation='relu')(a)\n",
    "    a11 = TimeDistributed(Dense(5, input_shape=(n_gram, no_word)))(a11)\n",
    "    a11 = ZeroPadding1D(padding=(0,10))(a11)\n",
    "    \n",
    "    a12 = Conv1D(no_word-100, 12, strides=1, padding=\"valid\", activation='relu')(a)\n",
    "    a12 = TimeDistributed(Dense(5, input_shape=(n_gram, no_word)))(a12)\n",
    "    a12 = ZeroPadding1D(padding=(0,11))(a12)\n",
    "    \n",
    "    \n",
    "    a_sum = Maximum()([a2,a3,a4,a5,a6,a7,a8,a9,a10,a11,a12])\n",
    "    \n",
    "    b = Embedding(12, 12, input_length=n_gram)(input2)\n",
    "    b = SpatialDropout1D(0.2)(b) \n",
    "    \n",
    "    x = Concatenate(axis=-1)([a, a_sum, b])\n",
    "    x = BatchNormalization()(x)\n",
    "    \n",
    "    x = Flatten()(x)\n",
    "    x = Dense(100, activation='relu')(x)\n",
    "    \n",
    "    out = Dense(1, activation='sigmoid')(x)\n",
    "\n",
    "    model = Model(inputs=[input1,input2], outputs=out)\n",
    "    model.compile(optimizer=Adam(), loss='binary_crossentropy', metrics=['acc'])\n",
    "    return model"
   ]
  },
  {
   "cell_type": "markdown",
   "metadata": {},
   "source": [
    "# Convolutional Neural Network"
   ]
  },
  {
   "cell_type": "code",
   "execution_count": 9,
   "metadata": {
    "ExecuteTime": {
     "end_time": "2017-06-23T20:01:31.114927",
     "start_time": "2017-06-23T20:01:30.696245"
    },
    "collapsed": false
   },
   "outputs": [],
   "source": [
    "model = get_convo_nn()"
   ]
  },
  {
   "cell_type": "code",
   "execution_count": 10,
   "metadata": {
    "ExecuteTime": {
     "end_time": "2017-06-23T20:01:31.123860",
     "start_time": "2017-06-23T20:01:31.115834"
    },
    "collapsed": true
   },
   "outputs": [
    {
     "name": "stdout",
     "output_type": "stream",
     "text": [
      "____________________________________________________________________________________________________\n",
      "Layer (type)                     Output Shape          Param #     Connected to                     \n",
      "====================================================================================================\n",
      "input_1 (InputLayer)             (None, 21)            0                                            \n",
      "____________________________________________________________________________________________________\n",
      "embedding_1 (Embedding)          (None, 21, 32)        5696                                         \n",
      "____________________________________________________________________________________________________\n",
      "spatial_dropout1d_1 (SpatialDrop (None, 21, 32)        0                                            \n",
      "____________________________________________________________________________________________________\n",
      "conv1d_1 (Conv1D)                (None, 20, 200)       13000                                        \n",
      "____________________________________________________________________________________________________\n",
      "conv1d_2 (Conv1D)                (None, 19, 200)       19400                                        \n",
      "____________________________________________________________________________________________________\n",
      "conv1d_3 (Conv1D)                (None, 18, 200)       25800                                        \n",
      "____________________________________________________________________________________________________\n",
      "conv1d_4 (Conv1D)                (None, 17, 200)       32200                                        \n",
      "____________________________________________________________________________________________________\n",
      "conv1d_5 (Conv1D)                (None, 16, 200)       38600                                        \n",
      "____________________________________________________________________________________________________\n",
      "conv1d_6 (Conv1D)                (None, 15, 200)       45000                                        \n",
      "____________________________________________________________________________________________________\n",
      "conv1d_7 (Conv1D)                (None, 14, 200)       51400                                        \n",
      "____________________________________________________________________________________________________\n",
      "conv1d_8 (Conv1D)                (None, 13, 150)       43350                                        \n",
      "____________________________________________________________________________________________________\n",
      "conv1d_9 (Conv1D)                (None, 12, 150)       48150                                        \n",
      "____________________________________________________________________________________________________\n",
      "conv1d_10 (Conv1D)               (None, 11, 150)       52950                                        \n",
      "____________________________________________________________________________________________________\n",
      "conv1d_11 (Conv1D)               (None, 10, 100)       38500                                        \n",
      "____________________________________________________________________________________________________\n",
      "time_distributed_1 (TimeDistribu (None, 20, 5)         1005                                         \n",
      "____________________________________________________________________________________________________\n",
      "time_distributed_2 (TimeDistribu (None, 19, 5)         1005                                         \n",
      "____________________________________________________________________________________________________\n",
      "time_distributed_3 (TimeDistribu (None, 18, 5)         1005                                         \n",
      "____________________________________________________________________________________________________\n",
      "time_distributed_4 (TimeDistribu (None, 17, 5)         1005                                         \n",
      "____________________________________________________________________________________________________\n",
      "time_distributed_5 (TimeDistribu (None, 16, 5)         1005                                         \n",
      "____________________________________________________________________________________________________\n",
      "time_distributed_6 (TimeDistribu (None, 15, 5)         1005                                         \n",
      "____________________________________________________________________________________________________\n",
      "time_distributed_7 (TimeDistribu (None, 14, 5)         1005                                         \n",
      "____________________________________________________________________________________________________\n",
      "time_distributed_8 (TimeDistribu (None, 13, 5)         755                                          \n",
      "____________________________________________________________________________________________________\n",
      "time_distributed_9 (TimeDistribu (None, 12, 5)         755                                          \n",
      "____________________________________________________________________________________________________\n",
      "time_distributed_10 (TimeDistrib (None, 11, 5)         755                                          \n",
      "____________________________________________________________________________________________________\n",
      "time_distributed_11 (TimeDistrib (None, 10, 5)         505                                          \n",
      "____________________________________________________________________________________________________\n",
      "input_2 (InputLayer)             (None, 21)            0                                            \n",
      "____________________________________________________________________________________________________\n",
      "zero_padding1d_1 (ZeroPadding1D) (None, 21, 5)         0                                            \n",
      "____________________________________________________________________________________________________\n",
      "zero_padding1d_2 (ZeroPadding1D) (None, 21, 5)         0                                            \n",
      "____________________________________________________________________________________________________\n",
      "zero_padding1d_3 (ZeroPadding1D) (None, 21, 5)         0                                            \n",
      "____________________________________________________________________________________________________\n",
      "zero_padding1d_4 (ZeroPadding1D) (None, 21, 5)         0                                            \n",
      "____________________________________________________________________________________________________\n",
      "zero_padding1d_5 (ZeroPadding1D) (None, 21, 5)         0                                            \n",
      "____________________________________________________________________________________________________\n",
      "zero_padding1d_6 (ZeroPadding1D) (None, 21, 5)         0                                            \n",
      "____________________________________________________________________________________________________\n",
      "zero_padding1d_7 (ZeroPadding1D) (None, 21, 5)         0                                            \n",
      "____________________________________________________________________________________________________\n",
      "zero_padding1d_8 (ZeroPadding1D) (None, 21, 5)         0                                            \n",
      "____________________________________________________________________________________________________\n",
      "zero_padding1d_9 (ZeroPadding1D) (None, 21, 5)         0                                            \n",
      "____________________________________________________________________________________________________\n",
      "zero_padding1d_10 (ZeroPadding1D (None, 21, 5)         0                                            \n",
      "____________________________________________________________________________________________________\n",
      "zero_padding1d_11 (ZeroPadding1D (None, 21, 5)         0                                            \n",
      "____________________________________________________________________________________________________\n",
      "embedding_2 (Embedding)          (None, 21, 12)        144                                          \n",
      "____________________________________________________________________________________________________\n",
      "maximum_1 (Maximum)              (None, 21, 5)         0                                            \n",
      "____________________________________________________________________________________________________\n",
      "spatial_dropout1d_2 (SpatialDrop (None, 21, 12)        0                                            \n",
      "____________________________________________________________________________________________________\n",
      "concatenate_1 (Concatenate)      (None, 21, 49)        0                                            \n",
      "____________________________________________________________________________________________________\n",
      "batch_normalization_1 (BatchNorm (None, 21, 49)        196                                          \n",
      "____________________________________________________________________________________________________\n",
      "flatten_1 (Flatten)              (None, 1029)          0                                            \n",
      "____________________________________________________________________________________________________\n",
      "dense_12 (Dense)                 (None, 100)           103000                                       \n",
      "____________________________________________________________________________________________________\n",
      "dense_13 (Dense)                 (None, 1)             101                                          \n",
      "====================================================================================================\n",
      "Total params: 527,292.0\n",
      "Trainable params: 527,194.0\n",
      "Non-trainable params: 98.0\n",
      "____________________________________________________________________________________________________\n"
     ]
    }
   ],
   "source": [
    "model.summary()"
   ]
  },
  {
   "cell_type": "code",
   "execution_count": 11,
   "metadata": {
    "ExecuteTime": {
     "end_time": "2017-06-23T23:51:02.540532",
     "start_time": "2017-06-23T20:01:45.148943"
    },
    "collapsed": false
   },
   "outputs": [
    {
     "name": "stdout",
     "output_type": "stream",
     "text": [
      "Epoch 1/10\n",
      "1364s - loss: 0.0420 - acc: 0.9852\n",
      "Epoch 2/10\n",
      "1373s - loss: 0.0286 - acc: 0.9904\n",
      "Epoch 3/10\n",
      "1379s - loss: 0.0254 - acc: 0.9916\n",
      "Epoch 4/10\n",
      "1378s - loss: 0.0236 - acc: 0.9922\n",
      "Epoch 5/10\n",
      "1377s - loss: 0.0224 - acc: 0.9926\n",
      "Epoch 6/10\n",
      "1377s - loss: 0.0216 - acc: 0.9929\n",
      "Epoch 7/10\n",
      "1377s - loss: 0.0208 - acc: 0.9931\n",
      "Epoch 8/10\n",
      "1377s - loss: 0.0202 - acc: 0.9933\n",
      "Epoch 9/10\n",
      "1375s - loss: 0.0197 - acc: 0.9935\n",
      "Epoch 10/10\n",
      "1375s - loss: 0.0193 - acc: 0.9936\n"
     ]
    },
    {
     "data": {
      "text/plain": [
       "<keras.callbacks.History at 0x7f0ad24f14a8>"
      ]
     },
     "execution_count": 11,
     "metadata": {},
     "output_type": "execute_result"
    }
   ],
   "source": [
    "model.fit([x_train1,x_train2], y_train, epochs=10, batch_size=256, verbose = 2)"
   ]
  },
  {
   "cell_type": "code",
   "execution_count": 12,
   "metadata": {
    "ExecuteTime": {
     "end_time": "2017-06-24T00:44:17.919566",
     "start_time": "2017-06-23T23:51:02.589082"
    },
    "collapsed": false
   },
   "outputs": [
    {
     "name": "stdout",
     "output_type": "stream",
     "text": [
      "Epoch 1/3\n",
      "1066s - loss: 0.0180 - acc: 0.9941\n",
      "Epoch 2/3\n",
      "1063s - loss: 0.0176 - acc: 0.9942\n",
      "Epoch 3/3\n",
      "1064s - loss: 0.0174 - acc: 0.9942\n"
     ]
    },
    {
     "data": {
      "text/plain": [
       "<keras.callbacks.History at 0x7f0ad20ac198>"
      ]
     },
     "execution_count": 12,
     "metadata": {},
     "output_type": "execute_result"
    }
   ],
   "source": [
    "model.fit([x_train1,x_train2], y_train, epochs=3, batch_size=512, verbose = 2)"
   ]
  },
  {
   "cell_type": "code",
   "execution_count": 13,
   "metadata": {
    "ExecuteTime": {
     "end_time": "2017-06-24T01:28:30.267353",
     "start_time": "2017-06-24T00:44:18.025886"
    },
    "collapsed": false
   },
   "outputs": [
    {
     "name": "stdout",
     "output_type": "stream",
     "text": [
      "Epoch 1/3\n",
      "885s - loss: 0.0161 - acc: 0.9947\n",
      "Epoch 2/3\n",
      "883s - loss: 0.0159 - acc: 0.9948\n",
      "Epoch 3/3\n",
      "883s - loss: 0.0157 - acc: 0.9948\n"
     ]
    },
    {
     "data": {
      "text/plain": [
       "<keras.callbacks.History at 0x7f0af8eeaac8>"
      ]
     },
     "execution_count": 13,
     "metadata": {},
     "output_type": "execute_result"
    }
   ],
   "source": [
    "model.fit([x_train1,x_train2], y_train, epochs=3, batch_size=2048, verbose = 2)"
   ]
  },
  {
   "cell_type": "code",
   "execution_count": 14,
   "metadata": {
    "ExecuteTime": {
     "end_time": "2017-06-24T02:10:57.333809",
     "start_time": "2017-06-24T01:28:30.268380"
    },
    "collapsed": false
   },
   "outputs": [
    {
     "name": "stdout",
     "output_type": "stream",
     "text": [
      "Epoch 1/3\n",
      "850s - loss: 0.0152 - acc: 0.9950\n",
      "Epoch 2/3\n",
      "848s - loss: 0.0150 - acc: 0.9950\n",
      "Epoch 3/3\n",
      "848s - loss: 0.0149 - acc: 0.9950\n"
     ]
    },
    {
     "data": {
      "text/plain": [
       "<keras.callbacks.History at 0x7f0ad1f89400>"
      ]
     },
     "execution_count": 14,
     "metadata": {},
     "output_type": "execute_result"
    }
   ],
   "source": [
    "model.fit([x_train1,x_train2], y_train, epochs=3, batch_size=4096, verbose = 2)"
   ]
  },
  {
   "cell_type": "code",
   "execution_count": 15,
   "metadata": {
    "ExecuteTime": {
     "end_time": "2017-06-24T02:53:21.211813",
     "start_time": "2017-06-24T02:10:57.334658"
    },
    "collapsed": false
   },
   "outputs": [
    {
     "name": "stdout",
     "output_type": "stream",
     "text": [
      "Epoch 1/3\n",
      "846s - loss: 0.0146 - acc: 0.9951\n",
      "Epoch 2/3\n",
      "848s - loss: 0.0145 - acc: 0.9952\n",
      "Epoch 3/3\n",
      "848s - loss: 0.0144 - acc: 0.9952\n"
     ]
    },
    {
     "data": {
      "text/plain": [
       "<keras.callbacks.History at 0x7f0ad2003860>"
      ]
     },
     "execution_count": 15,
     "metadata": {},
     "output_type": "execute_result"
    }
   ],
   "source": [
    "model.fit([x_train1,x_train2], y_train, epochs=3, batch_size=8192, verbose = 2)"
   ]
  },
  {
   "cell_type": "code",
   "execution_count": 16,
   "metadata": {
    "ExecuteTime": {
     "end_time": "2017-06-24T02:55:49.929258",
     "start_time": "2017-06-24T02:53:21.228781"
    },
    "collapsed": false
   },
   "outputs": [],
   "source": [
    "y_predict = model.predict([x_test1,x_test2])\n",
    "y_predict = [(i[0]>0.5)*1 for i in y_predict]"
   ]
  },
  {
   "cell_type": "code",
   "execution_count": 17,
   "metadata": {
    "ExecuteTime": {
     "end_time": "2017-06-24T02:55:53.527936",
     "start_time": "2017-06-24T02:55:49.930203"
    },
    "collapsed": false
   },
   "outputs": [
    {
     "name": "stdout",
     "output_type": "stream",
     "text": [
      "f1 score:  0.98843661988\n",
      "precision score:  0.985713702867\n",
      "recall score:  0.991174622033\n"
     ]
    }
   ],
   "source": [
    "print('f1 score: ', f1_score(y_test.astype(int), y_predict))\n",
    "print('precision score: ', precision_score(y_test.astype(int), y_predict))\n",
    "print('recall score: ', recall_score(y_test.astype(int), y_predict))"
   ]
  },
  {
   "cell_type": "code",
   "execution_count": 18,
   "metadata": {
    "ExecuteTime": {
     "end_time": "2017-06-24T02:55:55.241054",
     "start_time": "2017-06-24T02:55:53.528692"
    },
    "collapsed": false
   },
   "outputs": [],
   "source": [
    "model.save_weights(\"../weight/best_cnn3.h5\")"
   ]
  },
  {
   "cell_type": "code",
   "execution_count": null,
   "metadata": {
    "collapsed": true
   },
   "outputs": [],
   "source": []
  }
 ],
 "metadata": {
  "anaconda-cloud": {},
  "kernelspec": {
   "display_name": "Python 3",
   "language": "python",
   "name": "python3"
  },
  "language_info": {
   "codemirror_mode": {
    "name": "ipython",
    "version": 3
   },
   "file_extension": ".py",
   "mimetype": "text/x-python",
   "name": "python",
   "nbconvert_exporter": "python",
   "pygments_lexer": "ipython3",
   "version": "3.6.0"
  }
 },
 "nbformat": 4,
 "nbformat_minor": 1
}
