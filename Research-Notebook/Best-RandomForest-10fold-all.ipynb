{
 "cells": [
  {
   "cell_type": "code",
   "execution_count": 1,
   "metadata": {
    "ExecuteTime": {
     "end_time": "2017-06-20T09:45:11.752495",
     "start_time": "2017-06-20T09:45:11.363614"
    },
    "collapsed": true
   },
   "outputs": [],
   "source": [
    "import pandas as pd\n",
    "import numpy as np\n",
    "import scipy as sp\n",
    "from sklearn import preprocessing\n",
    "\n",
    "from sklearn.ensemble import RandomForestClassifier\n",
    "\n",
    "from sklearn.metrics import precision_score, recall_score, f1_score\n",
    "\n",
    "from utils import *"
   ]
  },
  {
   "cell_type": "markdown",
   "metadata": {},
   "source": [
    "# Training"
   ]
  },
  {
   "cell_type": "code",
   "execution_count": 2,
   "metadata": {
    "ExecuteTime": {
     "end_time": "2017-06-20T15:09:41.591375",
     "start_time": "2017-06-20T09:45:14.084002"
    },
    "collapsed": false
   },
   "outputs": [
    {
     "name": "stdout",
     "output_type": "stream",
     "text": [
      "1\n",
      "training...\n",
      "f1 score:  0.982952369854\n",
      "precision score:  0.978399741493\n",
      "recall score:  0.98754756429\n",
      "2\n",
      "training...\n",
      "f1 score:  0.98548799493\n",
      "precision score:  0.983366398392\n",
      "recall score:  0.987618765879\n",
      "3\n",
      "training...\n",
      "f1 score:  0.98578618677\n",
      "precision score:  0.983271598587\n",
      "recall score:  0.988313669387\n",
      "4\n",
      "training...\n",
      "f1 score:  0.984390615164\n",
      "precision score:  0.98003030861\n",
      "recall score:  0.988789894472\n",
      "5\n",
      "training...\n",
      "f1 score:  0.985496206871\n",
      "precision score:  0.983514395071\n",
      "recall score:  0.98748602162\n",
      "6\n",
      "training...\n",
      "f1 score:  0.983669098744\n",
      "precision score:  0.981308007024\n",
      "recall score:  0.986041579752\n",
      "7\n",
      "training...\n",
      "f1 score:  0.986571336908\n",
      "precision score:  0.984826071706\n",
      "recall score:  0.988322798855\n",
      "8\n",
      "training...\n",
      "f1 score:  0.98342654912\n",
      "precision score:  0.977780221334\n",
      "recall score:  0.989138466672\n",
      "9\n",
      "training...\n",
      "f1 score:  0.98602845943\n",
      "precision score:  0.984795351796\n",
      "recall score:  0.987264658998\n",
      "10\n",
      "training...\n",
      "f1 score:  0.98318722828\n",
      "precision score:  0.980664102765\n",
      "recall score:  0.985723370656\n"
     ]
    }
   ],
   "source": [
    "fold_list = [1,2,3,4,5,6,7,8,9,10]\n",
    "#input_list = ['article','encyclopedia','news','novel']\n",
    "input_list = ['article']\n",
    "\n",
    "for fold in range(1,11,1):\n",
    "    print(fold)\n",
    "    train_fold = fold_list.copy()\n",
    "    train_fold.remove(fold)\n",
    "    \n",
    "    df_train = pd.DataFrame(columns = ['char','type','target'])\n",
    "    df_test = pd.DataFrame(columns = ['char','type','target'])\n",
    "  \n",
    "    for input_folder in input_list:\n",
    "        for number in train_fold:\n",
    "            df1 = pd.read_csv('../cleaned_data/df_best_{}_{}.csv'.format(input_folder, number), usecols = ['char','type','target'])\n",
    "            df_train = df_train.append(df1)\n",
    "        df2 = pd.read_csv('../cleaned_data/df_best_{}_{}.csv'.format(input_folder, fold), usecols = ['char','type','target'])\n",
    "        df_test = df_test.append(df2)\n",
    "    \n",
    "    df_train.reset_index(inplace=True, drop=True)\n",
    "         \n",
    "    df_train = add_padding(df_train, 11)\n",
    "    df_test = add_padding(df_test, 11)\n",
    "    \n",
    "    df_n_gram_train = create_n_gram_df(df_train, number = 11)\n",
    "    df_n_gram_test = create_n_gram_df(df_test, number = 11)\n",
    "    \n",
    "    X_train = pd.get_dummies(df_n_gram_train.drop(['target'], axis=1), sparse=True)\n",
    "    y_train = df_n_gram_train.target.astype(int)\n",
    "\n",
    "    X_test = pd.get_dummies(df_n_gram_test.drop(['target'], axis=1))\n",
    "    X_test = X_test.reindex(columns = X_train.columns, fill_value=0)\n",
    "    y_test = df_n_gram_test.target.astype(int)\n",
    "    \n",
    "    #sX_train = sp.sparse.csr_matrix(X_train.values)\n",
    "    sX_test = sp.sparse.csr_matrix(X_test.values)\n",
    "    \n",
    "    print('training...')\n",
    "    \n",
    "    clf = RandomForestClassifier(class_weight=\"balanced\")\n",
    "    clf.fit(sp.sparse.csr_matrix(X_train), y_train)\n",
    "\n",
    "    y_predict = clf.predict(sX_test)\n",
    "    \n",
    "    print('f1 score: ', f1_score(y_test, y_predict, average='binary'))\n",
    "    print('precision score: ', precision_score(y_test, y_predict))\n",
    "    print('recall score: ', recall_score(y_test, y_predict))\n",
    "    \n",
    "    del df_train,df_test,df_n_gram_train,df_n_gram_test,X_train,X_test,sX_test\n",
    "    "
   ]
  },
  {
   "cell_type": "code",
   "execution_count": null,
   "metadata": {
    "collapsed": true
   },
   "outputs": [],
   "source": []
  }
 ],
 "metadata": {
  "anaconda-cloud": {},
  "kernelspec": {
   "display_name": "Python 3",
   "language": "python",
   "name": "python3"
  },
  "language_info": {
   "codemirror_mode": {
    "name": "ipython",
    "version": 3
   },
   "file_extension": ".py",
   "mimetype": "text/x-python",
   "name": "python",
   "nbconvert_exporter": "python",
   "pygments_lexer": "ipython3",
   "version": "3.6.0"
  }
 },
 "nbformat": 4,
 "nbformat_minor": 1
}
